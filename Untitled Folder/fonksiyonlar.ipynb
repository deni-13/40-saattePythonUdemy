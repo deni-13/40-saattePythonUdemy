{
 "cells": [
  {
   "cell_type": "code",
   "execution_count": 2,
   "metadata": {},
   "outputs": [
    {
     "name": "stdout",
     "output_type": "stream",
     "text": [
      "1.python\n",
      "\n",
      "2.c++\n",
      "\n",
      "3.javascript\n",
      "\n",
      "4.html\n"
     ]
    }
   ],
   "source": [
    "with open (\"bilgiler.txt\",\"r\") as  file:\n",
    "    for i in file:\n",
    "        print(i)\n",
    "    "
   ]
  },
  {
   "cell_type": "code",
   "execution_count": 3,
   "metadata": {},
   "outputs": [],
   "source": [
    "#burda kapatmaya gerek yok"
   ]
  },
  {
   "cell_type": "code",
   "execution_count": 4,
   "metadata": {},
   "outputs": [],
   "source": [
    "#ileri saymak"
   ]
  },
  {
   "cell_type": "code",
   "execution_count": 5,
   "metadata": {},
   "outputs": [
    {
     "name": "stdout",
     "output_type": "stream",
     "text": [
      "0\n"
     ]
    }
   ],
   "source": [
    "with open (\"bilgiler.txt\",\"r\") as  file:\n",
    "    print(file.tell()) #hic okuma yapmadım"
   ]
  },
  {
   "cell_type": "code",
   "execution_count": 9,
   "metadata": {},
   "outputs": [
    {
     "name": "stdout",
     "output_type": "stream",
     "text": [
      "0\n",
      "20\n"
     ]
    }
   ],
   "source": [
    "with open (\"bilgiler.txt\",\"r\") as  file:\n",
    "    print(file.tell())\n",
    "    file.seek(20)\n",
    "    print(file.tell()) #20.bayta gittik"
   ]
  },
  {
   "cell_type": "code",
   "execution_count": 17,
   "metadata": {},
   "outputs": [
    {
     "name": "stdout",
     "output_type": "stream",
     "text": [
      "hon\n",
      "2.c++\n",
      "\n",
      "3.j\n"
     ]
    }
   ],
   "source": [
    "with open (\"bilgiler.txt\",\"r\") as  file:\n",
    "    file.seek(5)\n",
    "    icerik=file.read(10)\n",
    "    icerik2=file.read(3)\n",
    "    print(icerik)  #ilk 10\n",
    "    print(icerik2)\n"
   ]
  }
 ],
 "metadata": {
  "kernelspec": {
   "display_name": "Python 3",
   "language": "python",
   "name": "python3"
  },
  "language_info": {
   "codemirror_mode": {
    "name": "ipython",
    "version": 3
   },
   "file_extension": ".py",
   "mimetype": "text/x-python",
   "name": "python",
   "nbconvert_exporter": "python",
   "pygments_lexer": "ipython3",
   "version": "3.7.6"
  }
 },
 "nbformat": 4,
 "nbformat_minor": 4
}
