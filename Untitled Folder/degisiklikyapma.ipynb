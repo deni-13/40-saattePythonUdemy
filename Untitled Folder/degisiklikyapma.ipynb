{
 "cells": [
  {
   "cell_type": "code",
   "execution_count": 1,
   "metadata": {},
   "outputs": [],
   "source": [
    "#r+ hem okuma hemde yazma saglıyor"
   ]
  },
  {
   "cell_type": "code",
   "execution_count": 4,
   "metadata": {},
   "outputs": [
    {
     "name": "stdout",
     "output_type": "stream",
     "text": [
      "1.python\n",
      "2.c++\n",
      "3.javascript\n",
      "4.html\n"
     ]
    }
   ],
   "source": [
    "with open(\"bilgiler.txt\",\"r\") as file:\n",
    "    print(file.read())"
   ]
  },
  {
   "cell_type": "code",
   "execution_count": 5,
   "metadata": {},
   "outputs": [
    {
     "name": "stdout",
     "output_type": "stream",
     "text": [
      ".c++\n",
      "3.javascript\n",
      "4.html\n"
     ]
    }
   ],
   "source": [
    "with open(\"bilgiler.txt\",\"r\") as file:\n",
    "    file.seek(10)\n",
    "    print(file.read())\n",
    "    "
   ]
  },
  {
   "cell_type": "code",
   "execution_count": 6,
   "metadata": {},
   "outputs": [],
   "source": [
    "#satır ekleme"
   ]
  },
  {
   "cell_type": "code",
   "execution_count": 17,
   "metadata": {},
   "outputs": [],
   "source": [
    "with open(\"bilgiler.txt\",\"a\") as file:\n",
    "    file.write(\"go\")"
   ]
  },
  {
   "cell_type": "code",
   "execution_count": 19,
   "metadata": {},
   "outputs": [
    {
     "name": "stdout",
     "output_type": "stream",
     "text": [
      "1.python\n",
      "2.c++\n",
      "3.javascript\n",
      "4.htmlgogogogo\n"
     ]
    }
   ],
   "source": [
    "with open(\"bilgiler.txt\",\"+r\") as file:\n",
    "    print(file.read())"
   ]
  },
  {
   "cell_type": "code",
   "execution_count": 20,
   "metadata": {},
   "outputs": [],
   "source": [
    "#dosya bası degisiklik"
   ]
  },
  {
   "cell_type": "code",
   "execution_count": 24,
   "metadata": {},
   "outputs": [],
   "source": [
    "with open(\"bilgiler.txt\",\"+r\") as file:\n",
    "    icerik=file.read()\n",
    "    icerik =\"ruby\" + icerik\n",
    "    file.seek(0)\n",
    "    file.write(icerik)"
   ]
  },
  {
   "cell_type": "code",
   "execution_count": 25,
   "metadata": {},
   "outputs": [
    {
     "name": "stdout",
     "output_type": "stream",
     "text": [
      "ruby1.python\n",
      "2.c++\n",
      "3.javascript\n",
      "4.htmlgogogogoruby1.python\n",
      "2.c++\n",
      "3.javascript\n",
      "4.htmlgogogogo\n"
     ]
    }
   ],
   "source": [
    "with open(\"bilgiler.txt\",\"+r\") as file:\n",
    "    print(file.read())"
   ]
  }
 ],
 "metadata": {
  "kernelspec": {
   "display_name": "Python 3",
   "language": "python",
   "name": "python3"
  },
  "language_info": {
   "codemirror_mode": {
    "name": "ipython",
    "version": 3
   },
   "file_extension": ".py",
   "mimetype": "text/x-python",
   "name": "python",
   "nbconvert_exporter": "python",
   "pygments_lexer": "ipython3",
   "version": "3.7.6"
  }
 },
 "nbformat": 4,
 "nbformat_minor": 4
}
