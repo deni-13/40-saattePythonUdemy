{
 "cells": [
  {
   "cell_type": "code",
   "execution_count": 2,
   "metadata": {},
   "outputs": [],
   "source": [
    "liste1=[1,2,3,4,5]  #birlestirme icin list(zip(liste,liste))\n",
    "liste2=[3,4,56,7,8]"
   ]
  },
  {
   "cell_type": "code",
   "execution_count": 13,
   "metadata": {},
   "outputs": [
    {
     "name": "stdout",
     "output_type": "stream",
     "text": [
      "[(1, 3), (2, 4), (3, 56), (4, 7), (5, 8)]\n"
     ]
    }
   ],
   "source": [
    "i=0\n",
    "sonuc=list()\n",
    "while (i<len(liste1) and i <len(liste2)):\n",
    "    sonuc.append((liste1[i],liste2[i]))\n",
    "    i+=1\n",
    "print(sonuc)"
   ]
  },
  {
   "cell_type": "code",
   "execution_count": 14,
   "metadata": {},
   "outputs": [],
   "source": [
    "#zip ikisini gruplamayı saglıyor\n"
   ]
  },
  {
   "cell_type": "code",
   "execution_count": 17,
   "metadata": {},
   "outputs": [
    {
     "data": {
      "text/plain": [
       "[(1, 3), (2, 4), (3, 56), (4, 7), (5, 8)]"
      ]
     },
     "execution_count": 17,
     "metadata": {},
     "output_type": "execute_result"
    }
   ],
   "source": [
    "list(zip(liste1,liste2))"
   ]
  },
  {
   "cell_type": "code",
   "execution_count": 18,
   "metadata": {},
   "outputs": [],
   "source": [
    "#farklı verileride zipliyor"
   ]
  },
  {
   "cell_type": "code",
   "execution_count": 22,
   "metadata": {},
   "outputs": [
    {
     "data": {
      "text/plain": [
       "[(1, 'php'), (2, 'r'), (3, 'java')]"
      ]
     },
     "execution_count": 22,
     "metadata": {},
     "output_type": "execute_result"
    }
   ],
   "source": [
    "liste1=[1,2,3,4,5]\n",
    "liste3=[\"php\",\"r\",\"java\"]\n",
    "list(zip(liste1,liste3))"
   ]
  },
  {
   "cell_type": "code",
   "execution_count": 23,
   "metadata": {},
   "outputs": [],
   "source": [
    "#iki liste uzerinde gezincez..."
   ]
  },
  {
   "cell_type": "code",
   "execution_count": 28,
   "metadata": {},
   "outputs": [
    {
     "name": "stdout",
     "output_type": "stream",
     "text": [
      "i karsılıgı 1 j karsılıgı php\n",
      "i karsılıgı 2 j karsılıgı r\n",
      "i karsılıgı 3 j karsılıgı java\n"
     ]
    }
   ],
   "source": [
    "liste1=[1,2,3,4,5]\n",
    "liste3=[\"php\",\"r\",\"java\"]\n",
    "\n",
    "for i,j in zip(liste1,liste3):\n",
    "    print(\"i karsılıgı\",i,\"j karsılıgı\",j)"
   ]
  },
  {
   "cell_type": "code",
   "execution_count": 30,
   "metadata": {},
   "outputs": [],
   "source": [
    "#tek bir for dongusuyle gezdik"
   ]
  }
 ],
 "metadata": {
  "kernelspec": {
   "display_name": "Python 3",
   "language": "python",
   "name": "python3"
  },
  "language_info": {
   "codemirror_mode": {
    "name": "ipython",
    "version": 3
   },
   "file_extension": ".py",
   "mimetype": "text/x-python",
   "name": "python",
   "nbconvert_exporter": "python",
   "pygments_lexer": "ipython3",
   "version": "3.7.6"
  }
 },
 "nbformat": 4,
 "nbformat_minor": 4
}
