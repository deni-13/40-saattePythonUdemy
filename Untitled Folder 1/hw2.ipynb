{
 "cells": [
  {
   "cell_type": "markdown",
   "metadata": {},
   "source": [
    "Elinizden her bir elemanı 3'lü bir demet olan bir liste olsun.\n",
    "\n",
    "     [(3,4,5),(6,8,10),(3,10,7)]\n",
    "\n",
    "Şimdi kenar uzunluklarına göre bu kenarların bir üçgen olup olmadığını dönen bir fonksiyon yazın ve sadece üçgen belirten kenarları bulunduran listeyi ekrana yazdırın.\n",
    "\n",
    "     [(3, 4, 5), (6, 8, 10)]\n",
    "\n",
    "Not: filter() fonksiyonunu kullanmaya çalışın.\n"
   ]
  },
  {
   "cell_type": "code",
   "execution_count": 13,
   "metadata": {},
   "outputs": [
    {
     "name": "stdout",
     "output_type": "stream",
     "text": [
      "[True, True, False]\n"
     ]
    }
   ],
   "source": [
    "liste = [(3,4,5),(6,8,10),(3,10,7)]\n",
    "def ucgen_mi(demet):\n",
    "    if demet[0] + demet[1] <= demet[2]:\n",
    "        return False\n",
    "    if demet[0] + demet[2] <= demet[1]:\n",
    "        return False\n",
    "    if demet[1] + demet[2]  <= demet[0]:\n",
    "        return False\n",
    "    else:\n",
    "        return True\n",
    " \n",
    " \n",
    " \n",
    "print(list(map(ucgen_mi,liste)))"
   ]
  }
 ],
 "metadata": {
  "kernelspec": {
   "display_name": "Python 3",
   "language": "python",
   "name": "python3"
  },
  "language_info": {
   "codemirror_mode": {
    "name": "ipython",
    "version": 3
   },
   "file_extension": ".py",
   "mimetype": "text/x-python",
   "name": "python",
   "nbconvert_exporter": "python",
   "pygments_lexer": "ipython3",
   "version": "3.7.6"
  }
 },
 "nbformat": 4,
 "nbformat_minor": 4
}
