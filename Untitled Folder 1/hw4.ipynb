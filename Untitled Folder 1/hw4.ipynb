{
 "cells": [
  {
   "cell_type": "markdown",
   "metadata": {},
   "source": [
    "Elinizde isimlerin ve soyisimlerin bulunduğu iki tane liste olsun.\n",
    "\n",
    "        isimler -----> [\"Kerim\",\"Tarık\",\"Ezgi\",\"Kemal\",\"İlkay\",\"Şükran\",\"Merve\"]\n",
    "\n",
    "        soyisimler -----> [\"Yılmaz\",\"Öztürk\",\"Dağdeviren\",\"Atatürk\",\"Dikmen\",\"Kaya\",\"Polat\"]\n",
    "\n",
    "Bu isimleri ve soyisimleri sırasıyla eşleştirin ve ekrana alt alta isimleri ve soyisimleri yazdırın.\n",
    "\n",
    "Not: zip() fonksiyonunu kullanmaya çalışın."
   ]
  },
  {
   "cell_type": "code",
   "execution_count": 1,
   "metadata": {},
   "outputs": [],
   "source": [
    "isimler=[\"Kerim\",\"Tarık\",\"Ezgi\",\"Kemal\",\"İlkay\",\"Şükran\",\"Merve\"]"
   ]
  },
  {
   "cell_type": "code",
   "execution_count": 2,
   "metadata": {},
   "outputs": [],
   "source": [
    "    soyisimler=[\"Yılmaz\",\"Öztürk\",\"Dağdeviren\",\"Atatürk\",\"Dikmen\",\"Kaya\",\"Polat\"]"
   ]
  },
  {
   "cell_type": "code",
   "execution_count": 4,
   "metadata": {},
   "outputs": [
    {
     "data": {
      "text/plain": [
       "[('Kerim', 'Yılmaz'),\n",
       " ('Tarık', 'Öztürk'),\n",
       " ('Ezgi', 'Dağdeviren'),\n",
       " ('Kemal', 'Atatürk'),\n",
       " ('İlkay', 'Dikmen'),\n",
       " ('Şükran', 'Kaya'),\n",
       " ('Merve', 'Polat')]"
      ]
     },
     "execution_count": 4,
     "metadata": {},
     "output_type": "execute_result"
    }
   ],
   "source": [
    "list(zip(isimler,soyisimler))"
   ]
  }
 ],
 "metadata": {
  "kernelspec": {
   "display_name": "Python 3",
   "language": "python",
   "name": "python3"
  },
  "language_info": {
   "codemirror_mode": {
    "name": "ipython",
    "version": 3
   },
   "file_extension": ".py",
   "mimetype": "text/x-python",
   "name": "python",
   "nbconvert_exporter": "python",
   "pygments_lexer": "ipython3",
   "version": "3.7.6"
  }
 },
 "nbformat": 4,
 "nbformat_minor": 4
}
